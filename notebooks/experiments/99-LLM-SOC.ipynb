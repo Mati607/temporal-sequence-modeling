{
  "cells": [
    {
      "cell_type": "markdown",
      "id": "b993d1fc-c224-49a4-9326-f1bab3c2fc1c",
      "metadata": {
        "id": "b993d1fc-c224-49a4-9326-f1bab3c2fc1c"
      },
      "source": [
        "# Workflow"
      ]
    },
    {
      "cell_type": "markdown",
      "id": "b73ede35-6b04-4e65-93e6-ab1505af8d75",
      "metadata": {
        "id": "b73ede35-6b04-4e65-93e6-ab1505af8d75"
      },
      "source": [
        "<img src=\"https://images.ctfassets.net/xjan103pcp94/4PX0l1ruKqfH17YvUiMFPw/c60a7a665125cb8056bebcc146c23b76/image8.png\" alt=\"Example Image\" width=\"400\" height=\"300\">\n",
        "\n",
        "1. Pass the query to the embedding model to semantically represent it as an embedded query vector.\n",
        "2. Pass the embedded query vector to our vector DB.\n",
        "3. Retrieve the top-k relevant contexts – measured by distance between the query embedding and all the embedded chunks in our knowledge base.\n",
        "4. Pass the query text and retrieved context text to our LLM.\n",
        "5. The LLM will generate a response using the provided content."
      ]
    },
    {
      "cell_type": "markdown",
      "id": "5457a050-6c70-428c-8832-1d87d3cbcc9d",
      "metadata": {
        "id": "5457a050-6c70-428c-8832-1d87d3cbcc9d"
      },
      "source": [
        "# Downloading Dataset"
      ]
    },
    {
      "cell_type": "code",
      "execution_count": null,
      "id": "48fc3e64-8c2f-4159-b01d-e148dc151a75",
      "metadata": {
        "id": "48fc3e64-8c2f-4159-b01d-e148dc151a75"
      },
      "outputs": [],
      "source": [
        "import requests\n",
        "from tqdm import tqdm\n",
        "\n",
        "def download_atlasv2():\n",
        "    url = \"https://public.boxcloud.com/d/1/b1!DF-5pZffA7zR1_FcUVCjx4PJaM3r8Lx6kBOjMXR9DG-geexQh9pfYrZNUzBLVe5vu620bSdhYCFpRhlwpF8DRlkV1VXDUIytUAH0lEvnJsN2Gzu4IVGKYqvRCwEQw02lbOAxCKDHJ7tKVn-C2OQSZs6Cr2kCOHM5TLQxIfWzrJzTU4dxHicqi-tDUeMF4xo2WKxIH8aNtVmx5TIMa_9tWaOb3npDRkUvk7MGCuk6CFsQSTNigqvmC2gSRtBnrVtdnCDPZF_yNBBLCpyOVFAEeR18pnqSdCw0HS4nkDHeA9yZ1RF4t6eYRM4xK8DrWAWMdDmT2_qdw4g4wi8WSjXeCCUmE3kOaUcmd3pXgS46qtb8lZdmw4PTriZUt9szpaRe5AgxO7F_Up0b8mbNZWDJ8kF7G9gHR6vToa28kWq_TwF7nOEtbdzPHZeL-vAk73D2cCJTmJB4einKCrsGLe4R-MOzKcWj7wu2Fjt1IvS6aqVRVy1uvwIRiWrUyhHDxSxsFGezirHsGKbBQej5Cytn40BaOlmFHMvK3S9vfpL8m2XjqmBW_q6sw4HnNYMBKTb9DzKrQb2aj3apEyuANeh-VSImgX09kiIWM70Q-QpUAI794N8bnJ3iykg6kjWro-3EZb44wOjuvMNGUp-HOzAbwY2P_Gk2y-Opo3UkXwoJV66n0LyMVgt8tLI0Dm7Q_VEsyw9u-b_mn3-uxblZR4fllyfCur7Ew8R2jiIZcry-o5iE2M1lIL7zlDy3-yCMhN75VXMI6EVvtuIwaHmLMubvu2N62nGVJ2n039LVAkByCoGzRBNIOXVgBy-aY49xnScn0F_fzyjQIK7VdsObJnO9Tg5bjurfRQ_ZQNx-g4CPG-vne2FkuI1ft7bLEcIMmVk0zn67VHwmcQ4rcBFHW_d_Vw2OfozrS0QjpcOIX1oC7h_MZIHb2SMzLKu3VyhqroZkYSz-Eebl3ieQuF8NO9d4kRJin_OBxki1_7IFSa239hcMoMk3x3hmHmsfeOb3msEtCdcXvcQOdt-inyjuNlvd_uhqs-p2LWcW32GBpAfYpnP26wMT-DHo1lX7k4R4BEsxWIelC-_-GnGpx7R7wsxvHmamyjjKeNfv_RvUeBYGqC67q64HAZY3ggQyyuzCanzXukzevdO5CkmxB61cNAE4OfKYcuPpITWE9XStCjA_hQ7xsnSz6tG0v69Ul9-qWxrmlChf9aubNe6HyBifPh7l7udwRnaVumiTMN0HaM232VdT-t5HoetaqSCnKIj46ql4iEZOqCuA/download\"\n",
        "\n",
        "    response = requests.head(url, allow_redirects=True)\n",
        "    file_size = int(response.headers.get('content-length', 0))\n",
        "\n",
        "    response = requests.get(url, stream=True)\n",
        "\n",
        "    if response.status_code == 200:\n",
        "        filename = \"atlasv2.tar.gz\"\n",
        "\n",
        "        with open(filename, 'wb') as file, tqdm(\n",
        "            desc=filename,\n",
        "            total=file_size,\n",
        "            unit='B',\n",
        "            unit_scale=True,\n",
        "            unit_divisor=1024,\n",
        "        ) as bar:\n",
        "            for chunk in response.iter_content(chunk_size=1024):\n",
        "                file.write(chunk)\n",
        "                bar.update(len(chunk))\n",
        "\n",
        "        print(f\"File downloaded successfully and saved as {filename}\")\n",
        "    else:\n",
        "        print(f\"Failed to download file. Status code: {response.status_code}\")\n",
        "\n",
        "    !tar -xzvf atlasv2.tar.gz -C atlas_dataset/"
      ]
    },
    {
      "cell_type": "markdown",
      "id": "c0a1ab6f-7a39-4b8f-b2cf-6d4e652c056c",
      "metadata": {
        "id": "c0a1ab6f-7a39-4b8f-b2cf-6d4e652c056c"
      },
      "source": [
        "# Analyzing Events"
      ]
    },
    {
      "cell_type": "code",
      "execution_count": null,
      "id": "cc8a4bc0-be3f-421e-ab09-d67eb5884fa3",
      "metadata": {
        "id": "cc8a4bc0-be3f-421e-ab09-d67eb5884fa3"
      },
      "outputs": [],
      "source": [
        "import pandas as pd\n",
        "import json\n",
        "\n",
        "def load_data(file_path):\n",
        "    log_data = []\n",
        "    with open(file_path, 'r') as file:\n",
        "        for line in file:\n",
        "            doc = json.loads(line)\n",
        "            timestamp = doc.get('device_timestamp')\n",
        "\n",
        "            if doc.get('type') == 'endpoint.event.crossproc':\n",
        "                parent_node_id = doc.get('process_guid')\n",
        "                parent_node_label = doc.get('process_path')\n",
        "                child_node_id = doc.get('crossproc_guid')\n",
        "                child_node_label = doc.get('crossproc_name')\n",
        "                edge_label = 'crossproc'\n",
        "                data = {\n",
        "                    'action': edge_label,\n",
        "                    'actorID': parent_node_id,\n",
        "                    'objectID': child_node_id,\n",
        "                    'object': 'PROCESS',\n",
        "                    'actorname': parent_node_label,\n",
        "                    'objectname': child_node_label,\n",
        "                    'timestamp': timestamp\n",
        "                }\n",
        "                log_data.append(data)\n",
        "\n",
        "            elif doc.get('type') == 'endpoint.event.procstart':\n",
        "                parent_node_id = doc.get('process_guid')\n",
        "                parent_node_label = doc.get('process_path')\n",
        "                child_node_id = doc.get('childproc_guid')\n",
        "                child_node_label = doc.get('childproc_name')\n",
        "                edge_label = 'procstart'\n",
        "                data = {\n",
        "                    'action': edge_label,\n",
        "                    'actorID': parent_node_id,\n",
        "                    'objectID': child_node_id,\n",
        "                    'object': 'PROCESS',\n",
        "                    'actorname': parent_node_label,\n",
        "                    'objectname': child_node_label,\n",
        "                    'timestamp': timestamp\n",
        "                }\n",
        "                log_data.append(data)\n",
        "\n",
        "            elif doc.get('type') == 'endpoint.event.filemod':\n",
        "                parent_node_id = doc.get('process_guid')\n",
        "                parent_node_label = doc.get('process_path')\n",
        "                child_node_id = doc.get('filemod_name')\n",
        "                child_node_label = doc.get('filemod_name')\n",
        "                edge_label = 'filemod'\n",
        "                data = {\n",
        "                    'action': edge_label,\n",
        "                    'actorID': parent_node_id,\n",
        "                    'objectID': child_node_id,\n",
        "                    'object': 'FILE',\n",
        "                    'actorname': parent_node_label,\n",
        "                    'objectname': child_node_label,\n",
        "                    'timestamp': timestamp\n",
        "                }\n",
        "                log_data.append(data)\n",
        "\n",
        "            elif doc.get('type') == 'endpoint.event.netconn':\n",
        "                parent_node_id = doc.get('process_guid')\n",
        "                parent_node_label = doc.get('process_path')\n",
        "                child_node_id = doc.get('remote_ip')\n",
        "                child_node_label = doc.get('remote_ip')\n",
        "                edge_label = 'netconn'\n",
        "                data = {\n",
        "                    'action': edge_label,\n",
        "                    'actorID': parent_node_id,\n",
        "                    'objectID': child_node_id,\n",
        "                    'object': 'SOCKET',\n",
        "                    'actorname': parent_node_label,\n",
        "                    'objectname': child_node_label,\n",
        "                    'timestamp': timestamp\n",
        "                }\n",
        "                log_data.append(data)\n",
        "\n",
        "    df = pd.DataFrame(log_data)\n",
        "    df['timestamp'] = pd.to_datetime(df['timestamp'], format='%Y-%m-%d %H:%M:%S.%f %z UTC')\n",
        "    df = df.sort_values(by='timestamp')\n",
        "    return df"
      ]
    },
    {
      "cell_type": "code",
      "execution_count": null,
      "id": "40bad80e-b07c-4768-981f-3e4c1e10cded",
      "metadata": {
        "id": "40bad80e-b07c-4768-981f-3e4c1e10cded"
      },
      "outputs": [],
      "source": [
        "host1 = \"atlas_dataset/atlasv2/data/benign/h1/cbc-edr/edr-h1-benign.jsonl\""
      ]
    },
    {
      "cell_type": "code",
      "execution_count": null,
      "id": "bffaf1bb-58af-4265-83aa-958fbf3bb8fb",
      "metadata": {
        "id": "bffaf1bb-58af-4265-83aa-958fbf3bb8fb"
      },
      "outputs": [],
      "source": [
        "def format_event(row):\n",
        "    return f\"{row['actorname']} performed {row['action']} action on {row['object']} named {row['objectname']}\"\n",
        "\n",
        "df = load_data(host1)\n",
        "df['event'] = df.apply(format_event, axis=1)\n",
        "df = df.drop_duplicates(subset='event')\n",
        "\n",
        "documents = df.groupby('actorname')['event'].apply(lambda events: '. '.join(events)).to_dict()"
      ]
    },
    {
      "cell_type": "code",
      "execution_count": null,
      "id": "19fbfc71-1fda-4027-b184-a87c587ece2a",
      "metadata": {
        "id": "19fbfc71-1fda-4027-b184-a87c587ece2a"
      },
      "outputs": [],
      "source": [
        "process_docs = list(documents.values())"
      ]
    },
    {
      "cell_type": "markdown",
      "id": "89ad7b67-8a0b-4717-aafb-8d0dfd4ab917",
      "metadata": {
        "id": "89ad7b67-8a0b-4717-aafb-8d0dfd4ab917"
      },
      "source": [
        "# GPT 4 Response - Benign process"
      ]
    },
    {
      "cell_type": "markdown",
      "id": "c452fd30-61d3-4b56-9505-7211b2d74e73",
      "metadata": {
        "id": "c452fd30-61d3-4b56-9505-7211b2d74e73"
      },
      "source": [
        "# Analysis of Process `smss.exe`\n",
        "\n",
        "Based on the provided system event details, it is likely that the actions described are part of normal system behavior and not indicative of an attack. Here is a breakdown of the reasoning:\n",
        "\n",
        "1. **Process Start and File Modifications**:\n",
        "   - `smss.exe` (Session Manager Subsystem) is a legitimate system process responsible for handling sessions on the system. Its execution is normal for Windows operation.\n",
        "   - File modifications in directories like `c:\\windows\\system32\\logfiles\\wmi\\rtbackup\\` and `c:\\windows\\rescache\\` are typical system activities. The `rescache` directory is used for resource caching, and modifications to files within it (e.g., `rescache.dir`, `rescache.hit`, `segment0.cmf`, `segment1.cmf`) occur during regular system maintenance and operations.\n",
        "\n",
        "2. **Network Connections**:\n",
        "   - Connections to `192.168.223.1` and `192.168.223.130` are within the private IP range, commonly used in internal networks. Such connections might be part of normal communication within a local network.\n",
        "   - The `0000:0000:0000:0000:0000:0000:0000:0001` address refers to the loopback address in IPv6, which is typically used for testing and internal communication.\n",
        "\n",
        "While none of these activities individually or collectively raise immediate red flags for malicious behavior, it is crucial to have a broader context to make a fully informed decision. For instance, continuous monitoring and correlation with other system events, historical patterns, and known attack vectors can provide more conclusive evidence.\n",
        "\n",
        "**Decision**: **Benign**\n",
        "\n",
        "However, it is advisable to continuously monitor for any unusual patterns or deviations from normal behavior.\n"
      ]
    },
    {
      "cell_type": "code",
      "execution_count": null,
      "id": "8b8daa13-e1e5-4918-9990-07684181c366",
      "metadata": {
        "id": "8b8daa13-e1e5-4918-9990-07684181c366"
      },
      "outputs": [],
      "source": [
        "attack_host = \"atlas_dataset/atlasv2/data/attack/h1/cbc-edr/edr-h1-s1.jsonl\""
      ]
    },
    {
      "cell_type": "code",
      "execution_count": null,
      "id": "1c85d12b-0524-4cc6-befa-d35de07d5e89",
      "metadata": {
        "id": "1c85d12b-0524-4cc6-befa-d35de07d5e89"
      },
      "outputs": [],
      "source": [
        "def format_event(row):\n",
        "    return f\"{row['actorname']} performed {row['action']} action on {row['object']} named {row['objectname']}\"\n",
        "\n",
        "df = load_data(attack_host)\n",
        "df['event'] = df.apply(format_event, axis=1)\n",
        "df = df.drop_duplicates(subset='event')\n",
        "\n",
        "documents = df.groupby('actorname')['event'].apply(lambda events: '. '.join(events)).to_dict()"
      ]
    },
    {
      "cell_type": "code",
      "execution_count": null,
      "id": "2aa31813-ad43-4a22-982d-e5784a4bbe35",
      "metadata": {
        "id": "2aa31813-ad43-4a22-982d-e5784a4bbe35"
      },
      "outputs": [],
      "source": [
        "pname = 'c:\\\\users\\\\aalsahee\\\\payload.exe'\n",
        "attack_sample =f\"{pname} -> {documents[pname]}\""
      ]
    },
    {
      "cell_type": "code",
      "execution_count": null,
      "id": "7f7447b0-fda5-41df-bdf0-6d7a5c26fdb4",
      "metadata": {
        "id": "7f7447b0-fda5-41df-bdf0-6d7a5c26fdb4",
        "outputId": "2629ce46-e105-4e5e-9970-5b9ce03b38d7"
      },
      "outputs": [
        {
          "name": "stdout",
          "output_type": "stream",
          "text": [
            "SYSTEM 79\n",
            "c:\\program files\\common files\\microsoft shared\\officesoftwareprotectionplatform\\osppsvc.exe 353\n",
            "c:\\program files\\confer\\scanner\\scanhost.exe 371\n",
            "c:\\program files\\confer\\scanner\\upd.exe 132093\n",
            "c:\\program files\\microsoft office\\office14\\excel.exe 1701\n",
            "c:\\program files\\mozilla firefox\\firefox.exe 713524\n",
            "c:\\program files\\mozilla firefox\\plugin-container.exe 2797\n",
            "c:\\program files\\vmware\\vmware tools\\tpautoconnsvc.exe 9924\n",
            "c:\\program files\\wireshark\\dumpcap.exe 190\n",
            "c:\\program files\\wireshark\\tshark.exe 311\n",
            "c:\\python27\\python.exe 143\n",
            "c:\\users\\aalsahee\\payload.exe 7784\n",
            "c:\\windows\\explorer.exe 2769\n",
            "c:\\windows\\system32\\audiodg.exe 361\n",
            "c:\\windows\\system32\\cmd.exe 411\n",
            "c:\\windows\\system32\\conhost.exe 872\n",
            "c:\\windows\\system32\\consent.exe 107\n",
            "c:\\windows\\system32\\csrss.exe 105\n",
            "c:\\windows\\system32\\dllhost.exe 158\n",
            "c:\\windows\\system32\\lsass.exe 1195\n",
            "c:\\windows\\system32\\lsm.exe 337\n",
            "c:\\windows\\system32\\mmc.exe 2049\n",
            "c:\\windows\\system32\\searchindexer.exe 1171\n",
            "c:\\windows\\system32\\services.exe 3992\n",
            "c:\\windows\\system32\\spoolsv.exe 23480\n",
            "c:\\windows\\system32\\svchost.exe 30306\n",
            "c:\\windows\\system32\\taskhost.exe 2451\n",
            "c:\\windows\\system32\\wbem\\wmiapsrv.exe 1416\n",
            "c:\\windows\\system32\\wininit.exe 320\n",
            "c:\\windows\\system32\\wsqmcons.exe 109\n"
          ]
        }
      ],
      "source": [
        "for k,v in documents.items():\n",
        "    print(k,len(v))"
      ]
    },
    {
      "cell_type": "markdown",
      "id": "241be6d0-8a67-48ca-9c08-1b4eb0d7a803",
      "metadata": {
        "id": "241be6d0-8a67-48ca-9c08-1b4eb0d7a803"
      },
      "source": [
        "# GPT 4 Response - Attack Process"
      ]
    },
    {
      "cell_type": "markdown",
      "id": "dcfcda91-0623-4ed1-a370-1f989c68319c",
      "metadata": {
        "id": "dcfcda91-0623-4ed1-a370-1f989c68319c"
      },
      "source": [
        "# Analysis of Process `c:\\users\\aalsahee\\payload.exe`\n",
        "\n",
        "## 1. Process Name and Location\n",
        "- The name `payload.exe` and its location in a user directory (not a standard system or program directory) raise immediate red flags. The term \"payload\" is commonly associated with malicious software, although this alone isn't definitive proof of maliciousness.\n",
        "\n",
        "## 2. File Modification in Temp Directory\n",
        "- The process is modifying multiple files in a temporary directory (`c:\\users\\aalsahee\\appdata\\local\\temp\\_mei15042`). This behavior is typical of software that unpacks or stages components during execution.\n",
        "- The files include a mix of `.pyd` (Python extension modules), `.dll` (Dynamic Link Libraries), and other executable content. The creation of these files could indicate the unpacking of a self-contained Python application, often seen with tools like PyInstaller or malicious software using such tools to bundle and obfuscate code.\n",
        "\n",
        "## 3. Network Connection\n",
        "- The process established a network connection to `10.193.66.115`. While the IP address itself isn't immediately indicative of a threat, the combination of network activity with the other behaviors (especially from a process named \"payload.exe\") is highly suspicious.\n",
        "- This suggests possible data exfiltration or command-and-control communication.\n",
        "\n",
        "## 4. Process Start Event\n",
        "- The process starts itself (`procstart action on PROCESS named c:\\users\\aalsahee\\payload.exe`), which could be part of a self-extracting or self-executing script.\n",
        "\n",
        "# Decision\n",
        "The activities observed are **highly suspicious** and likely indicative of a malicious process. The use of a generic name like `payload.exe`, file modifications in the user's temp directory, the presence of many `.dll` and `.pyd` files being unpacked, and the network connection are all consistent with behaviors seen in malware.\n",
        "\n",
        "Given this evidence, the process is likely **malicious**. Immediate investigation and containment (e.g., isolating the affected system) would be advisable.\n"
      ]
    },
    {
      "cell_type": "code",
      "execution_count": null,
      "id": "98d23a3b-d56b-41cb-ad4c-6173e817c1e9",
      "metadata": {
        "id": "98d23a3b-d56b-41cb-ad4c-6173e817c1e9"
      },
      "outputs": [],
      "source": []
    },
    {
      "cell_type": "markdown",
      "id": "929c4648-1322-42ee-85af-64f5437af77b",
      "metadata": {
        "id": "929c4648-1322-42ee-85af-64f5437af77b"
      },
      "source": [
        "## APT Kill Chain Stages Involved\n",
        "\n",
        "### 1. Installation\n",
        "- The process `payload.exe` is performing extensive file modifications in a temporary directory, including creating and modifying `.dll` and `.pyd` files.\n",
        "- This activity suggests that the attacker has successfully executed a payload on the victim's system, likely establishing a foothold by installing necessary components to further their objectives.\n",
        "- This stage involves the deployment of the malicious software (the payload) that will enable persistence or further malicious activities.\n",
        "\n",
        "### 2. Command and Control (C2)\n",
        "- The process has made a network connection to an external IP address (`10.193.66.115`).\n",
        "- This behavior is typical of the C2 phase, where the installed malware communicates with a remote server controlled by the attacker.\n",
        "- This connection could be used to receive instructions, exfiltrate data, or stage further attacks.\n",
        "\n",
        "## Conclusion\n",
        "Given the process activities, the attacker has moved past the initial stages of reconnaissance, weaponization, and delivery, and has reached the **Installation** stage, with indications that the **Command and Control (C2)** stage is either beginning or already in progress.\n",
        "\n",
        "At this point, the attacker likely has established a foothold on the system and is preparing to or has already begun communicating with external servers for further exploitation or data exfiltration. Immediate action to disrupt this chain, such as isolating the affected system, is critical to prevent further progression.\n"
      ]
    },
    {
      "cell_type": "code",
      "execution_count": null,
      "id": "68612a87-69e3-40b5-947b-9fb5b4049b3c",
      "metadata": {
        "id": "68612a87-69e3-40b5-947b-9fb5b4049b3c"
      },
      "outputs": [],
      "source": []
    },
    {
      "cell_type": "markdown",
      "id": "ea1e000e-086d-4090-b843-ad2ecaca775b",
      "metadata": {
        "id": "ea1e000e-086d-4090-b843-ad2ecaca775b"
      },
      "source": [
        "# To-Do List:\n",
        "\n",
        "1. Link alerts into the temporally ordered alert chain.\n",
        "2. Construct a causal document for each alert process node.\n",
        "3. Filter out irrelevant or benign information from the documents.\n",
        "4. Map system entity sets to specific stages of the attack kill chain using the documents.\n",
        "5. Generate a report detailing the attack from the initial compromise to the current stage."
      ]
    },
    {
      "cell_type": "markdown",
      "id": "b9a82408-8903-410b-bfc7-a6ac14e2dad9",
      "metadata": {
        "id": "b9a82408-8903-410b-bfc7-a6ac14e2dad9"
      },
      "source": [
        "<img src=\"https://i.ibb.co/WK2L7h7/Screenshot-2024-08-19-at-1-06-58-PM.png\" alt=\"Example Image\">\n"
      ]
    },
    {
      "cell_type": "code",
      "source": [],
      "metadata": {
        "id": "ojoIphkqn1nl"
      },
      "id": "ojoIphkqn1nl",
      "execution_count": null,
      "outputs": []
    }
  ],
  "metadata": {
    "kernelspec": {
      "display_name": "PyTorch 1.12.0",
      "language": "python",
      "name": "pytorch-1.12.0"
    },
    "language_info": {
      "codemirror_mode": {
        "name": "ipython",
        "version": 3
      },
      "file_extension": ".py",
      "mimetype": "text/x-python",
      "name": "python",
      "nbconvert_exporter": "python",
      "pygments_lexer": "ipython3",
      "version": "3.9.13"
    },
    "colab": {
      "provenance": []
    }
  },
  "nbformat": 4,
  "nbformat_minor": 5
}